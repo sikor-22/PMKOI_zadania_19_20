{
 "cells": [
  {
   "cell_type": "code",
   "execution_count": 3,
   "metadata": {},
   "outputs": [],
   "source": [
    "import numpy as np\n",
    "import matplotlib.pyplot as plt"
   ]
  },
  {
   "cell_type": "code",
   "execution_count": 11,
   "metadata": {},
   "outputs": [
    {
     "name": "stdout",
     "output_type": "stream",
     "text": [
      "Best model:  [5.07361562 7.12939049]\n",
      "[0, 2, 4, 13, 40, 43]\n"
     ]
    },
    {
     "data": {
      "image/png": "[encoded data removed]",
      "text/plain": [
       "<Figure size 432x288 with 1 Axes>"
      ]
     },
     "metadata": {
      "needs_background": "light"
     },
     "output_type": "display_data"
    }
   ],
   "source": [
    "#Zadanie 1\n",
    "start = -3\n",
    "stop = 3\n",
    "step = 0.1\n",
    "samples = int((stop - start) / step)\n",
    "x = np.linspace(start, step, samples)\n",
    "\n",
    "y = 5*x + 7 + np.random.normal(0, 0.2, size=x.shape)\n",
    "\n",
    "X =np.array([\n",
    "    x**1, x**0\n",
    "]).T\n",
    "\n",
    "y_outlier = y.copy()\n",
    "y_outlier[13] += 10\n",
    "y_outlier[0] -= 11\n",
    "y_outlier[2] += 8\n",
    "y_outlier[4] -= 9\n",
    "y_outlier[40] += 15\n",
    "y_outlier[43] += 15\n",
    "\n",
    "\n",
    "num_iters = 100\n",
    "sample_size = 5\n",
    "threshold = 0.2\n",
    "min_ratio = 0.85\n",
    "\n",
    "data = np.hstack([X, y_outlier[:, np.newaxis]])\n",
    "\n",
    "def data_sampler(data, sample_size):\n",
    "    indices = np.arange(len(data))\n",
    "    random_indices = np.random.choice(indices, size=sample_size, replace=False)\n",
    "    sample = data[random_indices, :]\n",
    "    return sample\n",
    "\n",
    "def model_calculator(data):\n",
    "    return np.linalg.inv(data[:, :-1].T @ data[:, :-1]) @ data[:, :-1].T @ data[:, -1]\n",
    "\n",
    "def model_evaluator(data, model):\n",
    "    return data[:, :-1] @ model\n",
    "\n",
    "def ratio_calculator(transformed_data, data, threshold):\n",
    "    error = (transformed_data - data[:, -1])**2\n",
    "    inliers = np.sum(error < threshold)\n",
    "    ratio = inliers / len(error)\n",
    "    return ratio\n",
    "\n",
    "def ransac(data, data_sampler, model_calculator, model_evaluator, ratio_calculator, threshold, sample_size, max_iters, min_ratio, out_threshold):\n",
    "    best_ratio = -np.inf\n",
    "    best_model = None\n",
    "    indices = []\n",
    "    for i in range(max_iters):\n",
    "        sample = data_sampler(data, sample_size)\n",
    "        current_model = model_calculator(sample)\n",
    "        transformed = model_evaluator(data, current_model)\n",
    "        ratio = ratio_calculator(transformed, data, threshold)\n",
    "        if ratio > best_ratio:\n",
    "            best_ratio = ratio\n",
    "            best_model = current_model\n",
    "        if best_ratio > min_ratio:\n",
    "            break\n",
    "    error = (model_evaluator(data, best_model) - data[:, -1])**2\n",
    "    for i in range(len(data)):\n",
    "        if(error[i] > out_threshold):\n",
    "            indices.append(i)\n",
    "    return best_ratio, best_model, indices\n",
    "\n",
    "_, best_model, out_indices = ransac(data, data_sampler, model_calculator, model_evaluator, ratio_calculator, threshold, sample_size, num_iters, min_ratio, 0.5)\n",
    "\n",
    "print(\"Best model: \", best_model)\n",
    "print(out_indices)\n",
    "y_new = X @ best_model\n",
    "\n",
    "plt.figure()\n",
    "plt.plot(x, y, \"r*\")\n",
    "plt.plot(x, y_outlier, 'g*')\n",
    "plt.plot(x, y_new, \"b-\")\n",
    "plt.grid(True)\n",
    "plt.show()"
   ]
  },
  {
   "cell_type": "code",
   "execution_count": null,
   "metadata": {},
   "outputs": [],
   "source": []
  },
  {
   "cell_type": "code",
   "execution_count": null,
   "metadata": {},
   "outputs": [],
   "source": [
    "#Zadanie 2\n",
    "start = -3\n",
    "stop = 3\n",
    "step = 0.1\n",
    "samples = int((stop - start) / step)\n",
    "x = np.linspace(start, step, samples)\n",
    "\n",
    "y = 5*x + 7 + np.random.normal(0, 0.2, size=x.shape)\n",
    "\n",
    "X =np.array([\n",
    "    x**1, x**0\n",
    "]).T\n",
    "\n",
    "y_outlier = y.copy()\n",
    "y_outlier[0] -= 11\n",
    "y_outlier[4] -= 9\n",
    "y_outlier[40] += 15\n",
    "y_outlier[43] += 15\n",
    "y_outlier[41] += 15\n",
    "y_outlier[10] += 25\n",
    "\n",
    "plt.plot(x,y_outlier,\"r*\")\n",
    "plt.grid(True)\n",
    "\n",
    "\n",
    "data = np.hstack([X, y_outlier[:, np.newaxis]])\n",
    "\n",
    "\n",
    "def gaussian_anomaly_detector(data,threshold):\n",
    "    \n",
    "    mean = data[:,2].mean()\n",
    "    std = data[:,2].std()\n",
    "    \n",
    "    applier = []\n",
    "    \n",
    "    for i in range(len(data[:,2])):\n",
    "        if ( 1 / (std * np.sqrt(2 * np.pi)) ) * np.exp( -(data[:,2][i] - mean)**2 / (2 * std**2) ) < threshold:\n",
    "            ind = np.where(data[:,2] == data[:,2][i])[0]\n",
    "            applier.append(ind[0])\n",
    "        else:\n",
    "            continue\n",
    "    \n",
    "    return applier\n",
    "\n",
    "        \n",
    "result = gaussian_anomaly_detector(data, 0.01)\n",
    "\n",
    "print(result)\n",
    "\n",
    "arr = np.array(result)"
   ]
  }
 ],
 "metadata": {
  "kernelspec": {
   "display_name": "Python 3",
   "language": "python",
   "name": "python3"
  },
  "language_info": {
   "codemirror_mode": {
    "name": "ipython",
    "version": 3
   },
   "file_extension": ".py",
   "mimetype": "text/x-python",
   "name": "python",
   "nbconvert_exporter": "python",
   "pygments_lexer": "ipython3",
   "version": "3.7.4"
  }
 },
 "nbformat": 4,
 "nbformat_minor": 2
}
