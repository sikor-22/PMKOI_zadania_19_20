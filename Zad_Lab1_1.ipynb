{
 "cells": [
  {
   "cell_type": "code",
   "execution_count": 6,
   "metadata": {},
   "outputs": [
    {
     "name": "stdout",
     "output_type": "stream",
     "text": [
      "3\n"
     ]
    }
   ],
   "source": [
    "#Zadanie1\n",
    "def funczad1(*args):\n",
    "    #zaklada wywolywanie tylko z liczbami\n",
    "    sum = 0\n",
    "    for i in args:\n",
    "        sum += i\n",
    "    return sum\n",
    "\n",
    "print(funczad1(1, 1, 1))"
   ]
  },
  {
   "cell_type": "code",
   "execution_count": 8,
   "metadata": {},
   "outputs": [
    {
     "name": "stdout",
     "output_type": "stream",
     "text": [
      "1\n",
      "2\n",
      "3\n",
      "4\n"
     ]
    }
   ],
   "source": [
    "#Zadanie 2\n",
    "def genzad2(start, stop):\n",
    "    i = start\n",
    "    while(i<stop):\n",
    "        yield i\n",
    "        i +=1\n",
    "example_gen = genzad2(1, 5)\n",
    "for i in example_gen:\n",
    "    print(i)"
   ]
  },
  {
   "cell_type": "code",
   "execution_count": 52,
   "metadata": {},
   "outputs": [
    {
     "name": "stdout",
     "output_type": "stream",
     "text": [
      "tensor(5.9605e-08)\n"
     ]
    }
   ],
   "source": [
    "#Zadanie 3/5\n",
    "import numpy as np\n",
    "import torch as tc\n",
    "def epsilon(datatype):\n",
    "    #datatype - typ liczbowy ktorego epsilon sprawdzamy, funkcja ma sens dla floatów różnej precyzji\n",
    "    eps = datatype(1)\n",
    "    check = datatype(1)\n",
    "    step = datatype(2)\n",
    "    while(check-eps != check):\n",
    "        eps = eps/step\n",
    "    return eps*step\n",
    "print(epsilon(tc.tensor))\n"
   ]
  },
  {
   "cell_type": "code",
   "execution_count": 46,
   "metadata": {
    "scrolled": true
   },
   "outputs": [
    {
     "name": "stderr",
     "output_type": "stream",
     "text": [
      "C:\\Users\\Jakub\\Anaconda3\\lib\\site-packages\\ipykernel_launcher.py:15: RuntimeWarning: divide by zero encountered in log\n",
      "  from ipykernel import kernelapp as app\n"
     ]
    },
    {
     "data": {
      "text/plain": [
       "Text(0, 0.5, 'y')"
      ]
     },
     "execution_count": 46,
     "metadata": {},
     "output_type": "execute_result"
    },
    {
     "data": {
      "image/png": "[encoded data removed]",
      "text/plain": [
       "<Figure size 432x288 with 1 Axes>"
      ]
     },
     "metadata": {
      "needs_background": "light"
     },
     "output_type": "display_data"
    }
   ],
   "source": [
    "#Zadanie 4\n",
    "import matplotlib.pyplot as plt\n",
    "\n",
    "def noise_reduct(y, window_size):\n",
    "    y_new = np.zeros(len(y))\n",
    "    av_filter = np.ones(window_size)\n",
    "    for i in range(int(window_size/2), len(y) - int(window_size/2)):\n",
    "        y_new[i] = (av_filter*y[i-int(window_size/2):i+int((window_size+1)/2)]).mean()\n",
    "    return y_new\n",
    "\n",
    "\n",
    "start = 0\n",
    "stop = 5\n",
    "x = np.linspace(start+step, stop-step, 200)\n",
    "y_clean = np.log(x)\n",
    "y_szum = y_clean + np.random.normal(0, 0.4,  200)\n",
    "window_size = 15\n",
    "y_n_removed = noise_reduct(y_szum, window_size)\n",
    "plt.plot(x[int(window_size/2):-int(window_size/2)], y_clean[int(window_size/2):-int(window_size/2)], \"r-\", label = \"Czysty ln(x)\")\n",
    "plt.plot(x[int(window_size/2):-int(window_size/2)], y_szum[int(window_size/2):-int(window_size/2)], \"g.\", label = \"ln(x) z szumem\")\n",
    "plt.plot(x[int(window_size/2):-int(window_size/2)], y_n_removed[int(window_size/2):-int(window_size/2)], \"b*\", label = \"ln(x) po redukcji\")\n",
    "plt.grid(True)\n",
    "plt.legend()\n",
    "plt.xlabel(\"x\")\n",
    "plt.ylabel(\"y\")"
   ]
  },
  {
   "cell_type": "code",
   "execution_count": 61,
   "metadata": {},
   "outputs": [
    {
     "name": "stdout",
     "output_type": "stream",
     "text": [
      "Numpy: 0.054970741271972656\n",
      "Torch bez GPU: 0.03397989273071289\n",
      "Dostępne GPU: False\n"
     ]
    }
   ],
   "source": [
    "#Zadanie 6\n",
    "import time\n",
    "#Numpy\n",
    "x1 = np.random.normal(0.5, 0.5, 10000000)\n",
    "x2 = np.random.normal(0.5, 0.5, 10000000)\n",
    "time1 = time.time()\n",
    "wynik = x1+x2\n",
    "time2 = time.time()\n",
    "print(\"Numpy:\",(time2-time1))\n",
    "#Torch no Cuda\n",
    "x1 = tc.rand(10000000)\n",
    "x2 = tc.rand(10000000)\n",
    "time1 = time.time()\n",
    "wynik = x1+x2\n",
    "time2 = time.time()\n",
    "print(\"Torch bez GPU:\",(time2-time1))\n",
    "#Torch Cuda\n",
    "print(\"Dostępne GPU:\", tc.cuda.is_available())\n",
    "#Niestety mojego radeona nie widzi"
   ]
  },
  {
   "cell_type": "code",
   "execution_count": null,
   "metadata": {},
   "outputs": [],
   "source": []
  },
  {
   "cell_type": "code",
   "execution_count": null,
   "metadata": {},
   "outputs": [],
   "source": []
  }
 ],
 "metadata": {
  "kernelspec": {
   "display_name": "Python 3",
   "language": "python",
   "name": "python3"
  },
  "language_info": {
   "codemirror_mode": {
    "name": "ipython",
    "version": 3
   },
   "file_extension": ".py",
   "mimetype": "text/x-python",
   "name": "python",
   "nbconvert_exporter": "python",
   "pygments_lexer": "ipython3",
   "version": "3.7.4"
  }
 },
 "nbformat": 4,
 "nbformat_minor": 2
}
