{
 "cells": [
  {
   "cell_type": "code",
   "execution_count": 23,
   "metadata": {},
   "outputs": [],
   "source": [
    "import numpy as np\n",
    "from scipy import linalg"
   ]
  },
  {
   "cell_type": "code",
   "execution_count": 24,
   "metadata": {},
   "outputs": [
    {
     "name": "stdout",
     "output_type": "stream",
     "text": [
      "[[ 1  2  4  2]\n",
      " [ 0  1  2  0]\n",
      " [ 0  0  1  1]\n",
      " [ 0  0  0 12]]\n"
     ]
    }
   ],
   "source": [
    "#zadanie 1\n",
    "\n",
    "def my_gaus_elim(A):\n",
    "    n = A.shape[0]\n",
    "    #x = np.zeros(n,np.float32)\n",
    "    for k in range(n-1):\n",
    "        #przerzucam zera na koniec\n",
    "        if np.abs(A[k,k]) < 1.0e-20:\n",
    "            for i in range(k+1, n):\n",
    "                if np.abs(A[i,k]) > np.abs(A[k,k]):\n",
    "                    A[[k,i]] = A[[i,k]]\n",
    "        #eliminacja kolumny\n",
    "        for i in range(k+1,n):\n",
    "            if A[i,k] == 0: \n",
    "                continue\n",
    "            ratio = A[k,k]/A[i,k]\n",
    "            for j in range(k, n): \n",
    "                A[i,j] = A[k,j] - A[i,j]*ratio\n",
    "    return A\n",
    "A = np.array([\n",
    "    [1, 2, 4, 2], \n",
    "    [2, 4, 5, 1], \n",
    "    [0, 0, 0, 12], \n",
    "    [3, 2, 4, 5]])\n",
    "print(my_gaus_elim(A))"
   ]
  },
  {
   "cell_type": "code",
   "execution_count": 29,
   "metadata": {},
   "outputs": [
    {
     "name": "stdout",
     "output_type": "stream",
     "text": [
      "Solution from our:  [-0.75  0.5   2.  ]\n",
      "Solution from linalg numpy: [-0.75  0.5   2.  ]\n"
     ]
    }
   ],
   "source": [
    "# zadanie 2 \n",
    "\n",
    "#funkcja z zajec\n",
    "def solve_upper_triangular(A, y):\n",
    "    x = np.zeros(y.shape)\n",
    "    for i in range(len(y) - 1, -1, -1):\n",
    "        if i == len(y) - 1:\n",
    "            x[i] = y[i] / A[i, i]\n",
    "        else:\n",
    "            ratio = 1 / A[i, i]\n",
    "            x[i] = ratio * (y[i] - np.sum(A[i, i+1:] @ x[i+1:]))\n",
    "    return x\n",
    "\n",
    "\n",
    "def our_solve_eq(A,y):\n",
    "\n",
    "    n = y.shape[0]\n",
    "    x = np.zeros(n,np.float32)\n",
    "\n",
    "    for k in range(n-1):\n",
    "        if np.abs(A[k,k]) < 1.0e-9:\n",
    "            for i in range(k+1, n):\n",
    "                if np.abs(A[i,k]) > np.abs(A[k,k]):\n",
    "                    A[[k,i]] = A[[i,k]]\n",
    "                    y[[k,i]] = y[[i,k]]\n",
    "        for i in range(k+1,n):\n",
    "            if A[i,k] == 0: \n",
    "                continue\n",
    "            ratio = A[k,k]/A[i,k]\n",
    "            for j in range(k, n): \n",
    "                A[i,j] = A[k,j] - A[i,j]*ratio\n",
    "            y[i] = y[k] - y[i]*temp\n",
    "    x[n-1] = y[n-1]/A[n-1, n-1]\n",
    "    for i in range(n - 2, -1, -1):  #ostatnie juz rozwiazane wiec zaczynam od n-2\n",
    "        sum = 0\n",
    "        for j in range(i + 1, n):\n",
    "            sum = sum + (A[i, j] * x[j])\n",
    "        x[i] = (y[i] - sum) / A[i, i]\n",
    "    return solve_upper_triangular(A,y)\n",
    "\n",
    "A = np.array([\n",
    "    [2, 3, 5],\n",
    "    [0, 2, 3],\n",
    "    [0, 0, 2],\n",
    "], dtype=np.float32)\n",
    "y = np.array([10, 7, 4])\n",
    "\n",
    "print(\"Solution from our: \", our_solve_eq(A,y))\n",
    "print(\"Solution from linalg numpy:\", np.linalg.solve(A,y))"
   ]
  },
  {
   "cell_type": "code",
   "execution_count": 32,
   "metadata": {},
   "outputs": [
    {
     "name": "stdout",
     "output_type": "stream",
     "text": [
      "p: \n",
      "[[0. 0. 0. 0. 0. 0. 1. 0.]\n",
      " [0. 1. 0. 0. 0. 0. 0. 0.]\n",
      " [0. 0. 0. 0. 1. 0. 0. 0.]\n",
      " [1. 0. 0. 0. 0. 0. 0. 0.]\n",
      " [0. 0. 0. 1. 0. 0. 0. 0.]\n",
      " [0. 0. 0. 0. 0. 0. 0. 1.]\n",
      " [0. 0. 0. 0. 0. 1. 0. 0.]\n",
      " [0. 0. 1. 0. 0. 0. 0. 0.]]\n",
      "L: \n",
      "[[ 1.     0.     0.     0.     0.     0.     0.     0.   ]\n",
      " [ 0.25   1.     0.     0.     0.     0.     0.     0.   ]\n",
      " [ 1.     0.     1.     0.     0.     0.     0.     0.   ]\n",
      " [ 0.5    0.133  0.717  1.     0.     0.     0.     0.   ]\n",
      " [ 0.5   -0.4    0.85  -0.753  1.     0.     0.     0.   ]\n",
      " [ 0.75   0.6   -0.4   -0.584  0.831  1.     0.     0.   ]\n",
      " [ 0.5    0.133 -0.283 -0.798  0.307 -0.365  1.     0.   ]\n",
      " [ 0.75   0.333  0.417 -0.056  0.276  0.644  0.135  1.   ]]\n",
      "U: \n",
      "[[ 4.     5.     8.     2.     6.     2.     5.     1.   ]\n",
      " [ 0.     3.75  -1.     6.5   -0.5    1.5   -0.25   5.75 ]\n",
      " [ 0.     0.    -4.     5.     2.    -1.    -4.     2.   ]\n",
      " [ 0.     0.     0.    -4.45   4.633  1.517 10.4   -1.7  ]\n",
      " [ 0.     0.     0.     0.     7.588  9.592 15.629  2.82 ]\n",
      " [ 0.     0.     0.     0.     0.    -4.886 -7.115 -0.737]\n",
      " [ 0.     0.     0.     0.     0.     0.     6.304  2.809]\n",
      " [ 0.     0.     0.     0.     0.     0.     0.     2.722]]\n",
      "Solutions\n",
      "[-5.14   0.463  1.209  1.812  0.982 -0.565  0.795 -0.785]\n",
      "[-5.14   0.463  1.209  1.812  0.982 -0.565  0.795 -0.785]\n"
     ]
    }
   ],
   "source": [
    "# zadanie 3\n",
    "\n",
    "\n",
    "def solve_lower_triangular(A, y):\n",
    "    x = np.zeros(y.shape)\n",
    "    for i in range(0, len(y), 1):\n",
    "        if i == 0:\n",
    "            x[i] = y[i] / A[i, i]\n",
    "        else:\n",
    "            ratio = 1 / A[i, i]\n",
    "            x[i] = ratio * (y[i] - np.sum(A[i, :i] @ x[:i]))\n",
    "    return x\n",
    "\n",
    "\n",
    "A = np.array([\n",
    "    [2, 3, 5, 4, 1, 5, 9, 6],\n",
    "    [1, 5, 1, 7, 1, 2, 1, 6],\n",
    "    [2, 1, 1, 6, 9, 8, 7, 4],\n",
    "    [4, 5, 8, 2, 6, 2, 5, 1],\n",
    "    [2, 3, 1, 1, 9, 2, 10, 1],\n",
    "    [3, 5, 4, 6, 7, 1, 2, 7],\n",
    "    [3, 6, 7, 6, 7, 5, 5, 6],\n",
    "    [4, 5, 4, 7, 8, 1, 1, 3]]\n",
    ")\n",
    "\n",
    "y = np.array([5, 7, 9, 3, 9, 5, 10, 5])\n",
    "np.set_printoptions(precision=3)\n",
    "p, L, U = linalg.lu(A)\n",
    "print(\"p: \")\n",
    "print(p)\n",
    "print(\"L: \")\n",
    "print(L)\n",
    "print(\"U: \")\n",
    "print(U)\n",
    "\n",
    "\n",
    "d = solve_lower_triangular(L, y @ p)\n",
    "x = solve_upper_triangular(U, d)\n",
    "\n",
    "\n",
    "x_lib = linalg.solve(A, y)\n",
    "print(\"Solutions\")\n",
    "print(x)\n",
    "print(x_lib)"
   ]
  },
  {
   "cell_type": "code",
   "execution_count": null,
   "metadata": {},
   "outputs": [],
   "source": []
  }
 ],
 "metadata": {
  "kernelspec": {
   "display_name": "Python 3",
   "language": "python",
   "name": "python3"
  },
  "language_info": {
   "codemirror_mode": {
    "name": "ipython",
    "version": 3
   },
   "file_extension": ".py",
   "mimetype": "text/x-python",
   "name": "python",
   "nbconvert_exporter": "python",
   "pygments_lexer": "ipython3",
   "version": "3.7.4"
  }
 },
 "nbformat": 4,
 "nbformat_minor": 2
}
