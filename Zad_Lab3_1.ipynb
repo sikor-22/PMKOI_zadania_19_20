{
 "cells": [
  {
   "cell_type": "code",
   "execution_count": 2,
   "metadata": {},
   "outputs": [],
   "source": [
    "import time\n",
    "import numpy as np\n",
    "import matplotlib.pyplot as plt\n",
    "from scipy import integrate"
   ]
  },
  {
   "cell_type": "code",
   "execution_count": 4,
   "metadata": {},
   "outputs": [
    {
     "name": "stdout",
     "output_type": "stream",
     "text": [
      "1.9989859184830032\n",
      "1.9989885864995398\n",
      "1.998984084220469\n",
      "Result trapezoidal_1:  1.9989859184830006\n",
      "Elapsed time:  0.0\n",
      "Result our trapezoidal:  1.9989859184830032\n",
      "Elapsed time:  0.0039980411529541016\n",
      "Result our simpson38:  1.998984084220469\n",
      "Elapsed time:  0.003997087478637695\n"
     ]
    }
   ],
   "source": [
    "#Zadanie1\n",
    "def our_integrate(y, dx, method = \"trapezoidal\"):\n",
    "    #method: trapezoidal, simpson_13, simpson_38\n",
    "    partial_sums = np.zeros(len(y))\n",
    "    if method == \"trapezoidal\":\n",
    "        partial_sums = 0\n",
    "        for i in range(len(y)-1):\n",
    "            partial_sums += ((y[i]+y[i+1])*dx)/2\n",
    "        return partial_sums\n",
    "    if method == \"simpson_13\":\n",
    "        partial_sums = 0\n",
    "        if len(y) % 2 == 1:\n",
    "            for i in range(0, len(y)-4, 2):\n",
    "                partial_sums += ((y[i]+4*y[i+1]+y[i+2])*dx)/3\n",
    "            partial_sums += (y[len(y)-4]+3*y[len(y)-3]+3*y[len(y)-2]+y[len(y)-1])*3*dx/8\n",
    "        if len(y) % 2 == 0:\n",
    "            for i in range(0, len(y)-2, 2):\n",
    "                partial_sums  += ((y[i]+4*y[i+1]+y[i+2])*dx)/3\n",
    "        return partial_sums\n",
    "    if method == \"simpson_38\":\n",
    "        partial_sums = 0\n",
    "        for i in range(0, len(y)-3, 3):\n",
    "            partial_sums += (y[i]+3*y[i+1]+3*y[i+2]+y[i+3])*3*dx/8\n",
    "        return partial_sums\n",
    "\n",
    "    \n",
    "start = 0\n",
    "stop = np.pi\n",
    "step = 0.001\n",
    "samples = int((stop-start)/step)\n",
    "x = np.linspace(start, stop, samples)\n",
    "y = np.sin(x)\n",
    "print(our_integrate(y, step))\n",
    "print(our_integrate(y, step, \"simpson_13\"))\n",
    "print(our_integrate(y, step, \"simpson_38\"))\n",
    "\n",
    "\n",
    "b_t = time.time()\n",
    "result_trapezoidal_1 = integrate.trapz(y, dx = step)\n",
    "e_t = time.time()\n",
    "print(\"Result trapezoidal_1: \", result_trapezoidal_1)\n",
    "print(\"Elapsed time: \", e_t - b_t)\n",
    "\n",
    "b_t = time.time()\n",
    "result_trapezoidal_1 = our_integrate(y, step)\n",
    "e_t = time.time()\n",
    "print(\"Result our trapezoidal: \", result_trapezoidal_1)\n",
    "print(\"Elapsed time: \", e_t - b_t)\n",
    "\n",
    "b_t = time.time()\n",
    "result_trapezoidal_1 = our_integrate(y, step, \"simpson_38\")\n",
    "e_t = time.time()\n",
    "print(\"Result our simpson38: \", result_trapezoidal_1)\n",
    "print(\"Elapsed time: \", e_t - b_t)"
   ]
  },
  {
   "cell_type": "code",
   "execution_count": 126,
   "metadata": {},
   "outputs": [
    {
     "name": "stdout",
     "output_type": "stream",
     "text": [
      "9.001667328178883\n"
     ]
    }
   ],
   "source": [
    "#Zadanie 2\n",
    "start = 0\n",
    "stop = 3\n",
    "samples = 513 #do rekurencyjnej uzywam liczby przedziałów w postaci 2^(k-1). 513 liczb generuje 512 przedziałów, k = 10\n",
    "step = (stop-start)/samples\n",
    "x = np.linspace(start, stop, samples)\n",
    "y = x**2\n",
    "def our_cumsum(X):\n",
    "    total_sum = 0\n",
    "    for i in X:\n",
    "        total_sum = total_sum + i\n",
    "        yield total_sum\n",
    "def integrate_recursive(y, l_prz, step):\n",
    "    h = (len(y)*step)/l_prz\n",
    "    if l_prz>1:\n",
    "        #print(\"liczba przedzialow: \", l_prz, \"h: \", h)\n",
    "        suma = 0 \n",
    "        for i in range(0, int(l_prz/2)):\n",
    "            suma += y[int((2*i-1)*h/step)]\n",
    "        return h*suma + integrate_recursive(y, l_prz/2, step)/2\n",
    "    else:\n",
    "        #print(\"liczba przedzialow: \", l_prz, \"h: \", h)\n",
    "        return (y[0] + y[len(y)-1])*h/2\n",
    "print(integrate_recursive(y, samples-1, step))\n"
   ]
  },
  {
   "cell_type": "code",
   "execution_count": 190,
   "metadata": {},
   "outputs": [
    {
     "name": "stdout",
     "output_type": "stream",
     "text": [
      "(9.869604401089356, 1.0957462050031181e-13)\n",
      "9.765518015928011\n"
     ]
    },
    {
     "data": {
      "image/png": "[encoded data removed]",
      "text/plain": [
       "<Figure size 432x288 with 1 Axes>"
      ]
     },
     "metadata": {
      "needs_background": "light"
     },
     "output_type": "display_data"
    }
   ],
   "source": [
    "#Zadanie 3\n",
    "\n",
    "step = 0.01\n",
    "start = 0\n",
    "stop = np.pi\n",
    "samples = int((stop - start) / step)\n",
    "x = np.linspace(start, stop, samples)\n",
    "y = np.linspace(start, stop, samples)\n",
    "\n",
    "xs, ys = np.meshgrid(x, y)\n",
    "zs = np.sin(xs)*ys\n",
    "grad_y, grad_x = np.gradient(zs)\n",
    "\n",
    "\n",
    "plt.figure()\n",
    "plt.imshow(zs, cmap='gray')\n",
    "plt.axis('off')\n",
    "\n",
    "\n",
    "\n",
    "def our_double_integral(X, step):\n",
    "    #X rozumiane jako f: R^2 -> R\n",
    "    suma = 0\n",
    "    for i in range(len(X[:, 0])-1):\n",
    "        for j in range(len(X[0, :])-1):\n",
    "            suma += (X[i, j]+X[i, j+1])*step*step/2\n",
    "    return suma\n",
    "print(integrate.dblquad(lambda y, x: np.sin(x)*y, 0, np.pi, 0, np.pi))\n",
    "print(our_double_integral(zs, step))\n"
   ]
  },
  {
   "cell_type": "code",
   "execution_count": 188,
   "metadata": {},
   "outputs": [
    {
     "ename": "SyntaxError",
     "evalue": "invalid syntax (<ipython-input-188-026968384959>, line 1)",
     "output_type": "error",
     "traceback": [
      "\u001b[1;36m  File \u001b[1;32m\"<ipython-input-188-026968384959>\"\u001b[1;36m, line \u001b[1;32m1\u001b[0m\n\u001b[1;33m    :\u001b[0m\n\u001b[1;37m    ^\u001b[0m\n\u001b[1;31mSyntaxError\u001b[0m\u001b[1;31m:\u001b[0m invalid syntax\n"
     ]
    }
   ],
   "source": []
  },
  {
   "cell_type": "code",
   "execution_count": null,
   "metadata": {},
   "outputs": [],
   "source": []
  }
 ],
 "metadata": {
  "kernelspec": {
   "display_name": "Python 3",
   "language": "python",
   "name": "python3"
  },
  "language_info": {
   "codemirror_mode": {
    "name": "ipython",
    "version": 3
   },
   "file_extension": ".py",
   "mimetype": "text/x-python",
   "name": "python",
   "nbconvert_exporter": "python",
   "pygments_lexer": "ipython3",
   "version": "3.7.4"
  }
 },
 "nbformat": 4,
 "nbformat_minor": 2
}
